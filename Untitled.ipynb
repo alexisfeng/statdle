{
 "cells": [
  {
   "cell_type": "code",
   "execution_count": 18,
   "id": "c350d8e5-ce7f-4c80-8f3a-520a5e0a3d67",
   "metadata": {},
   "outputs": [],
   "source": [
    "import re\n",
    "\n",
    "def parse_pasted_wordle(text):\n",
    "    split_text = text.split('\\n')\n",
    "    split_text = [line for line in split_text if len(line) != 0]\n",
    "    match = re.search(r'Wordle (?P<day>\\d{1,4}) (?P<guesses>[123456X])/6', split_text[0])\n",
    "    \n",
    "    if match is not None:\n",
    "        for line in split_text[1:]:\n",
    "            if re.search(r'\\w+', line) is not None:\n",
    "                return None\n",
    "        \n",
    "        return {\n",
    "            'day': match.group('day'),\n",
    "            'guesses': match.group('guesses'),\n",
    "            'grid': '\\n'.join(split_text[1:])\n",
    "        }\n",
    "    else:\n",
    "        return None"
   ]
  },
  {
   "cell_type": "code",
   "execution_count": 19,
   "id": "29a7ef5e-2da5-461a-8e23-34343953d97c",
   "metadata": {},
   "outputs": [
    {
     "data": {
      "text/plain": [
       "{'day': '321', 'guesses': '3', 'grid': '🟩🟩⬛⬛⬛\\n🟩🟩🟩🟩🟩'}"
      ]
     },
     "execution_count": 19,
     "metadata": {},
     "output_type": "execute_result"
    }
   ],
   "source": [
    "s = \"Wordle 321 3/6\\n\\n\\n\\n\\n🟩🟩⬛⬛⬛\\n🟩🟩🟩🟩🟩\"\n",
    "parse_pasted_wordle(s)"
   ]
  }
 ],
 "metadata": {
  "kernelspec": {
   "display_name": "Python 3 (ipykernel)",
   "language": "python",
   "name": "python3"
  },
  "language_info": {
   "codemirror_mode": {
    "name": "ipython",
    "version": 3
   },
   "file_extension": ".py",
   "mimetype": "text/x-python",
   "name": "python",
   "nbconvert_exporter": "python",
   "pygments_lexer": "ipython3",
   "version": "3.8.10"
  }
 },
 "nbformat": 4,
 "nbformat_minor": 5
}
